{
 "cells": [
  {
   "cell_type": "code",
   "execution_count": 22,
   "metadata": {},
   "outputs": [
    {
     "name": "stdout",
     "output_type": "stream",
     "text": [
      " DATA    INDEX\n",
      "elem1 - data[0]\n",
      "elem2 - data[1]\n",
      "elem3 - data[2]\n",
      "elem4 - data[3]\n",
      "elem5 - data[4]\n"
     ]
    },
    {
     "data": {
      "text/plain": [
       "['data0', 'data1', 'data2', 'data3', 'data4']"
      ]
     },
     "execution_count": 22,
     "metadata": {},
     "output_type": "execute_result"
    }
   ],
   "source": [
    "data = [\"elem1\",\"elem2\",\"elem3\",\"elem4\",\"elem5\"]\n",
    "data_length = len(data)\n",
    "listOfIndex=[]\n",
    "\n",
    "def generate_index(data_length):\n",
    "    print \" DATA    INDEX\"\n",
    "    for index in range(0, data_length):\n",
    "        listOfIndex.append(\"data\" + str(index)\n",
    "        print \"%s - data[%d]\" % (data[index], index)\n",
    "\n",
    "generate_index(data_length)\n",
    "listOfIndex"
   ]
  },
  {
   "cell_type": "code",
   "execution_count": null,
   "metadata": {},
   "outputs": [],
   "source": []
  },
  {
   "cell_type": "code",
   "execution_count": null,
   "metadata": {},
   "outputs": [],
   "source": []
  }
 ],
 "metadata": {
  "kernelspec": {
   "display_name": "Python 2",
   "language": "python",
   "name": "python2"
  },
  "language_info": {
   "codemirror_mode": {
    "name": "ipython",
    "version": 2
   },
   "file_extension": ".py",
   "mimetype": "text/x-python",
   "name": "python",
   "nbconvert_exporter": "python",
   "pygments_lexer": "ipython2",
   "version": "2.7.15rc1"
  }
 },
 "nbformat": 4,
 "nbformat_minor": 2
}

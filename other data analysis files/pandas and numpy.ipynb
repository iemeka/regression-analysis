{
 "cells": [
  {
   "cell_type": "code",
   "execution_count": 1,
   "metadata": {},
   "outputs": [],
   "source": [
    "import numpy as np"
   ]
  },
  {
   "cell_type": "code",
   "execution_count": 2,
   "metadata": {
    "collapsed": true
   },
   "outputs": [
    {
     "data": {
      "text/plain": [
       "'1.13.3'"
      ]
     },
     "execution_count": 2,
     "metadata": {},
     "output_type": "execute_result"
    }
   ],
   "source": [
    "np.__version__"
   ]
  },
  {
   "cell_type": "code",
   "execution_count": 3,
   "metadata": {},
   "outputs": [],
   "source": [
    "A = list(range(10))"
   ]
  },
  {
   "cell_type": "code",
   "execution_count": 21,
   "metadata": {
    "collapsed": true
   },
   "outputs": [
    {
     "name": "stdout",
     "output_type": "stream",
     "text": [
      "[0, 1, 2, 3, 4, 5, 6, 7, 8, 9]\n",
      "['0', '1', '2', '3', '4', '5', '6', '7', '8', '9']\n"
     ]
    },
    {
     "data": {
      "text/plain": [
       "[int, int, int, int, int, int, int, int, int, int]"
      ]
     },
     "execution_count": 21,
     "metadata": {},
     "output_type": "execute_result"
    }
   ],
   "source": [
    "# style used here is list comphrension\n",
    "B = [str(c) for c in A]\n",
    "print A\n",
    "print B\n",
    "[type(item) for item in A]"
   ]
  },
  {
   "cell_type": "code",
   "execution_count": 103,
   "metadata": {
    "collapsed": true
   },
   "outputs": [
    {
     "name": "stdout",
     "output_type": "stream",
     "text": [
      "[ 0.  0.  0.  0.  0.  0.  0.  0.  0.  0.]\n",
      "[0 0 0 0 0 0 0 0 0 0]\n",
      "[['1' '1' '1' '1' '1']\n",
      " ['1' '1' '1' '1' '1']\n",
      " ['1' '1' '1' '1' '1']]\n",
      "[['xxx' 'xxx' 'xxx' 'xxx']\n",
      " ['xxx' 'xxx' 'xxx' 'xxx']\n",
      " ['xxx' 'xxx' 'xxx' 'xxx']\n",
      " ['xxx' 'xxx' 'xxx' 'xxx']]\n",
      "[ 3  8 13 18 23 28]\n",
      "[ 0.   0.5  1. ]\n",
      "[[ 5.49423648  4.3056347   3.97600924]\n",
      " [ 4.67244727  4.02507935  4.75932282]\n",
      " [ 4.11839193  4.30264759  3.78919737]]\n",
      "[[ 1.  0.  0.  0.]\n",
      " [ 0.  1.  0.  0.]\n",
      " [ 0.  0.  1.  0.]\n",
      " [ 0.  0.  0.  1.]]\n",
      "None\n",
      "2\n",
      "(4, 5)\n",
      "20\n",
      "[7 5 1 8 7 8]\n",
      "[[2 9 7 7 7]\n",
      " [9 8 4 2 6]\n",
      " [4 3 0 7 5]\n",
      " [5 9 6 6 8]]\n",
      "---\n",
      "[[[2 5 8 1 2]\n",
      "  [7 0 8 3 1]\n",
      "  [0 3 2 3 2]\n",
      "  [9 2 1 0 1]]\n",
      "\n",
      " [[9 9 0 7 2]\n",
      "  [6 3 7 8 2]\n",
      "  [6 7 7 9 2]\n",
      "  [7 5 3 0 5]]\n",
      "\n",
      " [[4 3 8 9 5]\n",
      "  [8 6 7 0 4]\n",
      "  [6 8 4 8 1]\n",
      "  [9 5 4 2 3]]\n",
      "\n",
      " [[4 7 6 6 8]\n",
      "  [0 3 5 6 1]\n",
      "  [1 6 0 8 7]\n",
      "  [5 7 6 8 4]]]\n"
     ]
    }
   ],
   "source": [
    "# creating arrays\n",
    "\n",
    "\n",
    "# arrays in Numpy has one datatype\n",
    "#alway specify the datatype to be sure of the data contained in the array\n",
    "print np.zeros(10)\n",
    "print np.zeros(10, dtype=\"int\")\n",
    "\n",
    "# 3 by 5 column matrix\n",
    "print np.ones((3,5), dtype=\"string\")\n",
    "\n",
    "# matrix with a predefined value\n",
    "print np.full((4,4), 'xxx')\n",
    "\n",
    "# create a array with a set sequence\n",
    "print np.arange(3, 30, 5)\n",
    "\n",
    "# array with even space within the range of value - just three values within 0 and 1\n",
    "print np.linspace(0, 1, 3)\n",
    "\n",
    "# 3 by 3 matrix with mean 0 and sd 1 with a distribution\n",
    "print np.random.normal(4,0.55, (3,3))\n",
    "\n",
    "# identity matrix\n",
    "print np.eye(4)\n",
    "\n",
    "print np.random.seed(4)\n",
    "\n",
    "#creating arrays with different dimension and with random int \n",
    "x1 = np.random.randint(10, size=6) #one dimension\n",
    "x2 = np.random.randint(10, size=(4,5)) #two dimension\n",
    "x3 = np.random.randint(10, size=(4,4,5)) # three dimension\n",
    "print x2.ndim\n",
    "print x2.shape\n",
    "print x2.size\n",
    "print x1\n",
    "print x2\n",
    "print \"---\"\n",
    "print x3\n",
    "\n"
   ]
  },
  {
   "cell_type": "code",
   "execution_count": 113,
   "metadata": {
    "collapsed": true
   },
   "outputs": [
    {
     "name": "stdout",
     "output_type": "stream",
     "text": [
      "6\n",
      "5\n"
     ]
    }
   ],
   "source": [
    "print x2[3,2] # zero base indexing -:- 3rd value of the 4th row\n",
    "x2[3,-1] = 5\n",
    "print x2[3,-1]"
   ]
  },
  {
   "cell_type": "code",
   "execution_count": 122,
   "metadata": {
    "collapsed": true
   },
   "outputs": [
    {
     "name": "stdout",
     "output_type": "stream",
     "text": [
      "[0 1 2 3 4 5 6 7 8 9]\n",
      "[0 1 2 3 4]\n",
      "[4 5 6 7 8 9]\n",
      "[2 3]\n",
      "[0 3 6 9]\n",
      "[3 5 7 9]\n"
     ]
    },
    {
     "data": {
      "text/plain": [
       "array([9, 8, 7, 6, 5, 4, 3, 2, 1, 0])"
      ]
     },
     "execution_count": 122,
     "metadata": {},
     "output_type": "execute_result"
    }
   ],
   "source": [
    "j = np.arange(10)\n",
    "print j\n",
    "print j[:5]\n",
    "print j[4:]\n",
    "print j[2:4]\n",
    "print j[: : 3]\n",
    "print j[3::2]\n",
    "j[::-1] # reverse array"
   ]
  },
  {
   "cell_type": "code",
   "execution_count": 134,
   "metadata": {},
   "outputs": [
    {
     "name": "stdout",
     "output_type": "stream",
     "text": [
      "[2 3 4 7 8 9 1 5 6]\n",
      "[[2 3 4]\n",
      " [7 8 9]]\n",
      "[[2 3 4]\n",
      " [7 8 9]\n",
      " [2 3 4]\n",
      " [7 8 9]]\n",
      "[[2 3 4 2 3 4]\n",
      " [7 8 9 7 8 9]]\n"
     ]
    }
   ],
   "source": [
    "x = np.array([2,3,4])\n",
    "y = np.array([7,8,9])\n",
    "z=[1,5,6]\n",
    "print np.concatenate([x,y,z])\n",
    "\n",
    "#use grid to create a 2-dimensional array\n",
    "\n",
    "grid = np.array([x,y])\n",
    "print grid\n",
    "print np.concatenate([grid, grid])\n",
    "print np.concatenate([grid, grid], axis=1)"
   ]
  },
  {
   "cell_type": "code",
   "execution_count": null,
   "metadata": {},
   "outputs": [],
   "source": []
  }
 ],
 "metadata": {
  "kernelspec": {
   "display_name": "Python 2",
   "language": "python",
   "name": "python2"
  },
  "language_info": {
   "codemirror_mode": {
    "name": "ipython",
    "version": 2
   },
   "file_extension": ".py",
   "mimetype": "text/x-python",
   "name": "python",
   "nbconvert_exporter": "python",
   "pygments_lexer": "ipython2",
   "version": "2.7.15rc1"
  }
 },
 "nbformat": 4,
 "nbformat_minor": 2
}
